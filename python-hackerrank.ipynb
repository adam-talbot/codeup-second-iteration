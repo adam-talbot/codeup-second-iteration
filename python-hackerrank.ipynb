{
 "cells": [
  {
   "cell_type": "markdown",
   "id": "46817fe8-4abd-4c5b-874e-fd6917f2551c",
   "metadata": {},
   "source": [
    "---\n",
    "# Hackerrank Problems\n",
    "---"
   ]
  },
  {
   "cell_type": "markdown",
   "id": "8ddc7da5-1f10-47e0-9d1f-4f4da6586d21",
   "metadata": {},
   "source": [
    "## Finding the percentage"
   ]
  },
  {
   "cell_type": "code",
   "execution_count": 2,
   "id": "1cf065fb-9ab9-444f-ae58-b29b30a93eed",
   "metadata": {},
   "outputs": [],
   "source": [
    "# starter code provides you with dictionary of student marks and the query_name of the person you want to find the average for\n",
    "\n",
    "# score_list = student_marks[query_name]\n",
    "# scores_sum = 0\n",
    "# for score in score_list:\n",
    "#     scores_sum += score\n",
    "# ave_score = scores_sum / len(score_list)\n",
    "# print(f'{ave_score:.2f}')"
   ]
  },
  {
   "cell_type": "code",
   "execution_count": null,
   "id": "ee32391e-db4b-4459-b02b-0ad55699c0dc",
   "metadata": {},
   "outputs": [],
   "source": []
  }
 ],
 "metadata": {
  "kernelspec": {
   "display_name": "Python 3",
   "language": "python",
   "name": "python3"
  },
  "language_info": {
   "codemirror_mode": {
    "name": "ipython",
    "version": 3
   },
   "file_extension": ".py",
   "mimetype": "text/x-python",
   "name": "python",
   "nbconvert_exporter": "python",
   "pygments_lexer": "ipython3",
   "version": "3.8.8"
  }
 },
 "nbformat": 4,
 "nbformat_minor": 5
}
