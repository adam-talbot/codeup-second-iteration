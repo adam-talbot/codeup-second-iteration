{
 "cells": [
  {
   "cell_type": "markdown",
   "id": "34018dc4-dbde-4ed6-bd63-1ae253f3b5ff",
   "metadata": {},
   "source": [
    "---\n",
    "# Basic Pipeline\n",
    "---"
   ]
  },
  {
   "cell_type": "markdown",
   "id": "1653b9b7-3a49-429b-9d3c-2af6afc9079b",
   "metadata": {},
   "source": [
    "## Imports"
   ]
  },
  {
   "cell_type": "code",
   "execution_count": null,
   "id": "380f9045-76b7-4c94-8263-888cc2ac7488",
   "metadata": {},
   "outputs": [],
   "source": []
  },
  {
   "cell_type": "markdown",
   "id": "871b9d96-f0d1-4c93-b298-8602a81aadec",
   "metadata": {},
   "source": [
    "---\n",
    "## Acquire"
   ]
  },
  {
   "cell_type": "code",
   "execution_count": null,
   "id": "d43f2a69-5d68-4a83-a2e4-d6ffcb06a493",
   "metadata": {},
   "outputs": [],
   "source": []
  },
  {
   "cell_type": "code",
   "execution_count": null,
   "id": "c3438839-8e25-4c33-8fd7-4dfb439f42e7",
   "metadata": {},
   "outputs": [],
   "source": []
  },
  {
   "cell_type": "markdown",
   "id": "a2e4f06f-941e-4c7b-a4b3-081ff9fe9d5f",
   "metadata": {},
   "source": [
    "---\n",
    "## Prepare"
   ]
  },
  {
   "cell_type": "code",
   "execution_count": null,
   "id": "3122687f-bd95-4759-b725-362f3320a805",
   "metadata": {},
   "outputs": [],
   "source": []
  },
  {
   "cell_type": "code",
   "execution_count": null,
   "id": "21ef2583-36bd-466e-9c4f-49ed45c65cd3",
   "metadata": {},
   "outputs": [],
   "source": []
  },
  {
   "cell_type": "markdown",
   "id": "1d4d59c5-51d9-46df-8d35-53ab3cf85789",
   "metadata": {},
   "source": [
    "---\n",
    "## Explore"
   ]
  },
  {
   "cell_type": "code",
   "execution_count": null,
   "id": "087f13a7-7984-433f-9a2e-0b8e4e38e3ff",
   "metadata": {},
   "outputs": [],
   "source": []
  },
  {
   "cell_type": "code",
   "execution_count": null,
   "id": "e72fb6af-02d5-45c8-b012-7f29664afba8",
   "metadata": {},
   "outputs": [],
   "source": []
  },
  {
   "cell_type": "markdown",
   "id": "d3f880ff-bca2-4107-afa1-b59684f29b37",
   "metadata": {},
   "source": [
    "---\n",
    "## Model "
   ]
  },
  {
   "cell_type": "code",
   "execution_count": null,
   "id": "fa45b181-5823-4cea-a284-26f56b52e09f",
   "metadata": {},
   "outputs": [],
   "source": []
  },
  {
   "cell_type": "code",
   "execution_count": null,
   "id": "27f62d27-00e6-48ca-8904-32b4c3b059b8",
   "metadata": {},
   "outputs": [],
   "source": []
  }
 ],
 "metadata": {
  "kernelspec": {
   "display_name": "Python 3",
   "language": "python",
   "name": "python3"
  },
  "language_info": {
   "codemirror_mode": {
    "name": "ipython",
    "version": 3
   },
   "file_extension": ".py",
   "mimetype": "text/x-python",
   "name": "python",
   "nbconvert_exporter": "python",
   "pygments_lexer": "ipython3",
   "version": "3.8.8"
  }
 },
 "nbformat": 4,
 "nbformat_minor": 5
}
